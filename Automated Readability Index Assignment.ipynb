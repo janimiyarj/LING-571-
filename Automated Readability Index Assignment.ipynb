{
 "cells": [
  {
   "cell_type": "code",
   "execution_count": 19,
   "id": "cd01c6d7-a449-4af2-9f2e-8d3c3317a868",
   "metadata": {},
   "outputs": [],
   "source": [
    "import polars as pl\n",
    "import pandas as pd"
   ]
  },
  {
   "cell_type": "code",
   "execution_count": 26,
   "id": "6d0daefb-ae56-432c-ba0c-45e5c29ae6e8",
   "metadata": {},
   "outputs": [
    {
     "data": {
      "text/plain": [
       "polars.config.Config"
      ]
     },
     "execution_count": 26,
     "metadata": {},
     "output_type": "execute_result"
    }
   ],
   "source": [
    "pl.Config.set_thousands_separator(\",\")\n",
    "pl.Config.set_tbl_hide_column_data_types(True)\n",
    "pl.Config.set_float_precision(3)\n",
    "pl.Config.set_tbl_rows(20)"
   ]
  },
  {
   "cell_type": "code",
   "execution_count": 27,
   "id": "0f3d525b-a876-40b1-ba32-a1ed291c5651",
   "metadata": {},
   "outputs": [
    {
     "name": "stdout",
     "output_type": "stream",
     "text": [
      "File ‘books.parquet’ already there; not retrieving.\n",
      "\n"
     ]
    }
   ],
   "source": [
    "!wget -nc https://ling583.s3.amazonaws.com/books.parquet"
   ]
  },
  {
   "cell_type": "code",
   "execution_count": 28,
   "id": "8c97bfd1-7cfa-484c-9eee-1b6b3817b185",
   "metadata": {},
   "outputs": [],
   "source": [
    "c = pl.read_parquet('books.parquet')"
   ]
  },
  {
   "cell_type": "code",
   "execution_count": 29,
   "id": "ef59b9cb-9e32-45d9-a0f6-3366ccfc0f3e",
   "metadata": {},
   "outputs": [
    {
     "data": {
      "text/html": [
       "<div><style>\n",
       ".dataframe > thead > tr,\n",
       ".dataframe > tbody > tr {\n",
       "  text-align: right;\n",
       "  white-space: pre-wrap;\n",
       "}\n",
       "</style>\n",
       "<small>shape: (5, 6)</small><table border=\"1\" class=\"dataframe\"><thead><tr><th>tok</th><th>norm</th><th>tag</th><th>pos</th><th>fileid</th><th>sentid</th></tr></thead><tbody><tr><td>&quot;[&quot;</td><td>&quot;[&quot;</td><td>&quot;XX&quot;</td><td>&quot;X&quot;</td><td>&quot;austen-emma&quot;</td><td>&quot;austen-emma_0000&quot;</td></tr><tr><td>&quot;Emma&quot;</td><td>&quot;emma&quot;</td><td>&quot;NNP&quot;</td><td>&quot;PROPN&quot;</td><td>&quot;austen-emma&quot;</td><td>&quot;austen-emma_0000&quot;</td></tr><tr><td>&quot;by&quot;</td><td>&quot;by&quot;</td><td>&quot;IN&quot;</td><td>&quot;ADP&quot;</td><td>&quot;austen-emma&quot;</td><td>&quot;austen-emma_0000&quot;</td></tr><tr><td>&quot;Jane&quot;</td><td>&quot;jane&quot;</td><td>&quot;NNP&quot;</td><td>&quot;PROPN&quot;</td><td>&quot;austen-emma&quot;</td><td>&quot;austen-emma_0000&quot;</td></tr><tr><td>&quot;Austen&quot;</td><td>&quot;austen&quot;</td><td>&quot;NNP&quot;</td><td>&quot;PROPN&quot;</td><td>&quot;austen-emma&quot;</td><td>&quot;austen-emma_0000&quot;</td></tr></tbody></table></div>"
      ],
      "text/plain": [
       "shape: (5, 6)\n",
       "┌────────┬────────┬─────┬───────┬─────────────┬──────────────────┐\n",
       "│ tok    ┆ norm   ┆ tag ┆ pos   ┆ fileid      ┆ sentid           │\n",
       "╞════════╪════════╪═════╪═══════╪═════════════╪══════════════════╡\n",
       "│ [      ┆ [      ┆ XX  ┆ X     ┆ austen-emma ┆ austen-emma_0000 │\n",
       "│ Emma   ┆ emma   ┆ NNP ┆ PROPN ┆ austen-emma ┆ austen-emma_0000 │\n",
       "│ by     ┆ by     ┆ IN  ┆ ADP   ┆ austen-emma ┆ austen-emma_0000 │\n",
       "│ Jane   ┆ jane   ┆ NNP ┆ PROPN ┆ austen-emma ┆ austen-emma_0000 │\n",
       "│ Austen ┆ austen ┆ NNP ┆ PROPN ┆ austen-emma ┆ austen-emma_0000 │\n",
       "└────────┴────────┴─────┴───────┴─────────────┴──────────────────┘"
      ]
     },
     "execution_count": 29,
     "metadata": {},
     "output_type": "execute_result"
    }
   ],
   "source": [
    "c.head()"
   ]
  },
  {
   "cell_type": "code",
   "execution_count": 30,
   "id": "6941ebd3-cd8d-4e8b-a23a-a9913e2e44ba",
   "metadata": {
    "scrolled": true
   },
   "outputs": [
    {
     "data": {
      "text/html": [
       "<div><style>\n",
       ".dataframe > thead > tr,\n",
       ".dataframe > tbody > tr {\n",
       "  text-align: right;\n",
       "  white-space: pre-wrap;\n",
       "}\n",
       "</style>\n",
       "<small>shape: (1_439_763, 7)</small><table border=\"1\" class=\"dataframe\"><thead><tr><th>tok</th><th>norm</th><th>tag</th><th>pos</th><th>fileid</th><th>sentid</th><th>chars</th></tr></thead><tbody><tr><td>&quot;[&quot;</td><td>&quot;[&quot;</td><td>&quot;XX&quot;</td><td>&quot;X&quot;</td><td>&quot;austen-emma&quot;</td><td>&quot;austen-emma_0000&quot;</td><td>1</td></tr><tr><td>&quot;Emma&quot;</td><td>&quot;emma&quot;</td><td>&quot;NNP&quot;</td><td>&quot;PROPN&quot;</td><td>&quot;austen-emma&quot;</td><td>&quot;austen-emma_0000&quot;</td><td>4</td></tr><tr><td>&quot;by&quot;</td><td>&quot;by&quot;</td><td>&quot;IN&quot;</td><td>&quot;ADP&quot;</td><td>&quot;austen-emma&quot;</td><td>&quot;austen-emma_0000&quot;</td><td>2</td></tr><tr><td>&quot;Jane&quot;</td><td>&quot;jane&quot;</td><td>&quot;NNP&quot;</td><td>&quot;PROPN&quot;</td><td>&quot;austen-emma&quot;</td><td>&quot;austen-emma_0000&quot;</td><td>4</td></tr><tr><td>&quot;Austen&quot;</td><td>&quot;austen&quot;</td><td>&quot;NNP&quot;</td><td>&quot;PROPN&quot;</td><td>&quot;austen-emma&quot;</td><td>&quot;austen-emma_0000&quot;</td><td>6</td></tr><tr><td>&quot;1816&quot;</td><td>&quot;1816&quot;</td><td>&quot;CD&quot;</td><td>&quot;NUM&quot;</td><td>&quot;austen-emma&quot;</td><td>&quot;austen-emma_0000&quot;</td><td>4</td></tr><tr><td>&quot;]&quot;</td><td>&quot;]&quot;</td><td>&quot;-RRB-&quot;</td><td>&quot;PUNCT&quot;</td><td>&quot;austen-emma&quot;</td><td>&quot;austen-emma_0000&quot;</td><td>1</td></tr><tr><td>&quot;VOLUME&quot;</td><td>&quot;volume&quot;</td><td>&quot;NN&quot;</td><td>&quot;NOUN&quot;</td><td>&quot;austen-emma&quot;</td><td>&quot;austen-emma_0000&quot;</td><td>6</td></tr><tr><td>&quot;I&quot;</td><td>&quot;i&quot;</td><td>&quot;PRP&quot;</td><td>&quot;PRON&quot;</td><td>&quot;austen-emma&quot;</td><td>&quot;austen-emma_0000&quot;</td><td>1</td></tr><tr><td>&quot;CHAPTER&quot;</td><td>&quot;chapter&quot;</td><td>&quot;NN&quot;</td><td>&quot;NOUN&quot;</td><td>&quot;austen-emma&quot;</td><td>&quot;austen-emma_0000&quot;</td><td>7</td></tr><tr><td>&hellip;</td><td>&hellip;</td><td>&hellip;</td><td>&hellip;</td><td>&hellip;</td><td>&hellip;</td><td>&hellip;</td></tr><tr><td>&quot;Exeunt&quot;</td><td>&quot;exeunt&quot;</td><td>&quot;NNP&quot;</td><td>&quot;PROPN&quot;</td><td>&quot;shakespeare-macbeth&quot;</td><td>&quot;shakespeare-macbeth_1442&quot;</td><td>6</td></tr><tr><td>&quot;Omnes&quot;</td><td>&quot;omnes&quot;</td><td>&quot;NNP&quot;</td><td>&quot;PROPN&quot;</td><td>&quot;shakespeare-macbeth&quot;</td><td>&quot;shakespeare-macbeth_1442&quot;</td><td>5</td></tr><tr><td>&quot;.&quot;</td><td>&quot;.&quot;</td><td>&quot;.&quot;</td><td>&quot;PUNCT&quot;</td><td>&quot;shakespeare-macbeth&quot;</td><td>&quot;shakespeare-macbeth_1442&quot;</td><td>1</td></tr><tr><td>&quot;FINIS&quot;</td><td>&quot;finis&quot;</td><td>&quot;NNP&quot;</td><td>&quot;PROPN&quot;</td><td>&quot;shakespeare-macbeth&quot;</td><td>&quot;shakespeare-macbeth_1443&quot;</td><td>5</td></tr><tr><td>&quot;.&quot;</td><td>&quot;.&quot;</td><td>&quot;.&quot;</td><td>&quot;PUNCT&quot;</td><td>&quot;shakespeare-macbeth&quot;</td><td>&quot;shakespeare-macbeth_1443&quot;</td><td>1</td></tr><tr><td>&quot;THE&quot;</td><td>&quot;the&quot;</td><td>&quot;DT&quot;</td><td>&quot;DET&quot;</td><td>&quot;shakespeare-macbeth&quot;</td><td>&quot;shakespeare-macbeth_1444&quot;</td><td>3</td></tr><tr><td>&quot;TRAGEDIE&quot;</td><td>&quot;tragedie&quot;</td><td>&quot;NNS&quot;</td><td>&quot;NOUN&quot;</td><td>&quot;shakespeare-macbeth&quot;</td><td>&quot;shakespeare-macbeth_1444&quot;</td><td>8</td></tr><tr><td>&quot;OF&quot;</td><td>&quot;of&quot;</td><td>&quot;IN&quot;</td><td>&quot;ADP&quot;</td><td>&quot;shakespeare-macbeth&quot;</td><td>&quot;shakespeare-macbeth_1444&quot;</td><td>2</td></tr><tr><td>&quot;MACBETH&quot;</td><td>&quot;macbeth&quot;</td><td>&quot;NNP&quot;</td><td>&quot;PROPN&quot;</td><td>&quot;shakespeare-macbeth&quot;</td><td>&quot;shakespeare-macbeth_1444&quot;</td><td>7</td></tr><tr><td>&quot;.&quot;</td><td>&quot;.&quot;</td><td>&quot;.&quot;</td><td>&quot;PUNCT&quot;</td><td>&quot;shakespeare-macbeth&quot;</td><td>&quot;shakespeare-macbeth_1444&quot;</td><td>1</td></tr></tbody></table></div>"
      ],
      "text/plain": [
       "shape: (1_439_763, 7)\n",
       "┌──────────┬──────────┬───────┬───────┬─────────────────────┬──────────────────────────┬───────┐\n",
       "│ tok      ┆ norm     ┆ tag   ┆ pos   ┆ fileid              ┆ sentid                   ┆ chars │\n",
       "╞══════════╪══════════╪═══════╪═══════╪═════════════════════╪══════════════════════════╪═══════╡\n",
       "│ [        ┆ [        ┆ XX    ┆ X     ┆ austen-emma         ┆ austen-emma_0000         ┆ 1     │\n",
       "│ Emma     ┆ emma     ┆ NNP   ┆ PROPN ┆ austen-emma         ┆ austen-emma_0000         ┆ 4     │\n",
       "│ by       ┆ by       ┆ IN    ┆ ADP   ┆ austen-emma         ┆ austen-emma_0000         ┆ 2     │\n",
       "│ Jane     ┆ jane     ┆ NNP   ┆ PROPN ┆ austen-emma         ┆ austen-emma_0000         ┆ 4     │\n",
       "│ Austen   ┆ austen   ┆ NNP   ┆ PROPN ┆ austen-emma         ┆ austen-emma_0000         ┆ 6     │\n",
       "│ 1816     ┆ 1816     ┆ CD    ┆ NUM   ┆ austen-emma         ┆ austen-emma_0000         ┆ 4     │\n",
       "│ ]        ┆ ]        ┆ -RRB- ┆ PUNCT ┆ austen-emma         ┆ austen-emma_0000         ┆ 1     │\n",
       "│ VOLUME   ┆ volume   ┆ NN    ┆ NOUN  ┆ austen-emma         ┆ austen-emma_0000         ┆ 6     │\n",
       "│ I        ┆ i        ┆ PRP   ┆ PRON  ┆ austen-emma         ┆ austen-emma_0000         ┆ 1     │\n",
       "│ CHAPTER  ┆ chapter  ┆ NN    ┆ NOUN  ┆ austen-emma         ┆ austen-emma_0000         ┆ 7     │\n",
       "│ …        ┆ …        ┆ …     ┆ …     ┆ …                   ┆ …                        ┆ …     │\n",
       "│ Exeunt   ┆ exeunt   ┆ NNP   ┆ PROPN ┆ shakespeare-macbeth ┆ shakespeare-macbeth_1442 ┆ 6     │\n",
       "│ Omnes    ┆ omnes    ┆ NNP   ┆ PROPN ┆ shakespeare-macbeth ┆ shakespeare-macbeth_1442 ┆ 5     │\n",
       "│ .        ┆ .        ┆ .     ┆ PUNCT ┆ shakespeare-macbeth ┆ shakespeare-macbeth_1442 ┆ 1     │\n",
       "│ FINIS    ┆ finis    ┆ NNP   ┆ PROPN ┆ shakespeare-macbeth ┆ shakespeare-macbeth_1443 ┆ 5     │\n",
       "│ .        ┆ .        ┆ .     ┆ PUNCT ┆ shakespeare-macbeth ┆ shakespeare-macbeth_1443 ┆ 1     │\n",
       "│ THE      ┆ the      ┆ DT    ┆ DET   ┆ shakespeare-macbeth ┆ shakespeare-macbeth_1444 ┆ 3     │\n",
       "│ TRAGEDIE ┆ tragedie ┆ NNS   ┆ NOUN  ┆ shakespeare-macbeth ┆ shakespeare-macbeth_1444 ┆ 8     │\n",
       "│ OF       ┆ of       ┆ IN    ┆ ADP   ┆ shakespeare-macbeth ┆ shakespeare-macbeth_1444 ┆ 2     │\n",
       "│ MACBETH  ┆ macbeth  ┆ NNP   ┆ PROPN ┆ shakespeare-macbeth ┆ shakespeare-macbeth_1444 ┆ 7     │\n",
       "│ .        ┆ .        ┆ .     ┆ PUNCT ┆ shakespeare-macbeth ┆ shakespeare-macbeth_1444 ┆ 1     │\n",
       "└──────────┴──────────┴───────┴───────┴─────────────────────┴──────────────────────────┴───────┘"
      ]
     },
     "execution_count": 30,
     "metadata": {},
     "output_type": "execute_result"
    }
   ],
   "source": [
    "c.with_columns(chars = pl.col('tok').str.len_chars())"
   ]
  },
  {
   "cell_type": "code",
   "execution_count": 32,
   "id": "61193315-f360-4724-bfd1-fdc61640bd66",
   "metadata": {},
   "outputs": [
    {
     "data": {
      "text/html": [
       "<div><style>\n",
       ".dataframe > thead > tr,\n",
       ".dataframe > tbody > tr {\n",
       "  text-align: right;\n",
       "  white-space: pre-wrap;\n",
       "}\n",
       "</style>\n",
       "<small>shape: (15, 5)</small><table border=\"1\" class=\"dataframe\"><thead><tr><th>fileid</th><th>n_words</th><th>n_chars</th><th>n_sents</th><th>ari</th></tr></thead><tbody><tr><td>&quot;shakespeare-caesar&quot;</td><td>25,155</td><td>88,972</td><td>1,591</td><td>3.134</td></tr><tr><td>&quot;shakespeare-hamlet&quot;</td><td>36,308</td><td>129,405</td><td>2,320</td><td>3.182</td></tr><tr><td>&quot;shakespeare-macbeth&quot;</td><td>22,200</td><td>80,188</td><td>1,445</td><td>3.265</td></tr><tr><td>&quot;burgess-busterbear&quot;</td><td>18,739</td><td>66,688</td><td>1,002</td><td>4.683</td></tr><tr><td>&quot;carroll-alice&quot;</td><td>34,503</td><td>116,009</td><td>1,624</td><td>5.029</td></tr><tr><td>&quot;bryant-stories&quot;</td><td>56,047</td><td>194,498</td><td>2,719</td><td>5.221</td></tr><tr><td>&quot;edgeworth-parents&quot;</td><td>209,856</td><td>739,177</td><td>10,026</td><td>5.626</td></tr><tr><td>&quot;chesterton-thursday&quot;</td><td>69,927</td><td>261,229</td><td>3,568</td><td>5.965</td></tr><tr><td>&quot;chesterton-ball&quot;</td><td>97,936</td><td>370,970</td><td>4,619</td><td>7.012</td></tr><tr><td>&quot;chesterton-brown&quot;</td><td>86,456</td><td>326,248</td><td>3,703</td><td>8.017</td></tr><tr><td>&quot;austen-emma&quot;</td><td>189,305</td><td>722,615</td><td>7,376</td><td>9.382</td></tr><tr><td>&quot;melville-moby_dick&quot;</td><td>258,411</td><td>999,044</td><td>9,781</td><td>9.989</td></tr><tr><td>&quot;austen-persuasion&quot;</td><td>98,407</td><td>380,023</td><td>3,653</td><td>10.228</td></tr><tr><td>&quot;austen-sense&quot;</td><td>140,313</td><td>549,509</td><td>4,790</td><td>11.662</td></tr><tr><td>&quot;milton-paradise&quot;</td><td>96,200</td><td>376,389</td><td>1,834</td><td>23.225</td></tr></tbody></table></div>"
      ],
      "text/plain": [
       "shape: (15, 5)\n",
       "┌─────────────────────┬─────────┬─────────┬─────────┬────────┐\n",
       "│ fileid              ┆ n_words ┆ n_chars ┆ n_sents ┆ ari    │\n",
       "╞═════════════════════╪═════════╪═════════╪═════════╪════════╡\n",
       "│ shakespeare-caesar  ┆ 25,155  ┆ 88,972  ┆ 1,591   ┆ 3.134  │\n",
       "│ shakespeare-hamlet  ┆ 36,308  ┆ 129,405 ┆ 2,320   ┆ 3.182  │\n",
       "│ shakespeare-macbeth ┆ 22,200  ┆ 80,188  ┆ 1,445   ┆ 3.265  │\n",
       "│ burgess-busterbear  ┆ 18,739  ┆ 66,688  ┆ 1,002   ┆ 4.683  │\n",
       "│ carroll-alice       ┆ 34,503  ┆ 116,009 ┆ 1,624   ┆ 5.029  │\n",
       "│ bryant-stories      ┆ 56,047  ┆ 194,498 ┆ 2,719   ┆ 5.221  │\n",
       "│ edgeworth-parents   ┆ 209,856 ┆ 739,177 ┆ 10,026  ┆ 5.626  │\n",
       "│ chesterton-thursday ┆ 69,927  ┆ 261,229 ┆ 3,568   ┆ 5.965  │\n",
       "│ chesterton-ball     ┆ 97,936  ┆ 370,970 ┆ 4,619   ┆ 7.012  │\n",
       "│ chesterton-brown    ┆ 86,456  ┆ 326,248 ┆ 3,703   ┆ 8.017  │\n",
       "│ austen-emma         ┆ 189,305 ┆ 722,615 ┆ 7,376   ┆ 9.382  │\n",
       "│ melville-moby_dick  ┆ 258,411 ┆ 999,044 ┆ 9,781   ┆ 9.989  │\n",
       "│ austen-persuasion   ┆ 98,407  ┆ 380,023 ┆ 3,653   ┆ 10.228 │\n",
       "│ austen-sense        ┆ 140,313 ┆ 549,509 ┆ 4,790   ┆ 11.662 │\n",
       "│ milton-paradise     ┆ 96,200  ┆ 376,389 ┆ 1,834   ┆ 23.225 │\n",
       "└─────────────────────┴─────────┴─────────┴─────────┴────────┘"
      ]
     },
     "execution_count": 32,
     "metadata": {},
     "output_type": "execute_result"
    }
   ],
   "source": [
    "c.group_by('fileid').agg(\n",
    "    n_words = pl.col('tok').count(),\n",
    "    n_chars = pl.col('tok').str.len_chars().sum(),\n",
    "    n_sents = pl.col('sentid').n_unique()\n",
    ").with_columns(\n",
    "    ari = 4.71 * pl.col('n_chars')/pl.col('n_words') + 0.5 * pl.col('n_words')/pl.col('n_sents') - 21.43\n",
    ").sort(by='ari')"
   ]
  },
  {
   "cell_type": "code",
   "execution_count": null,
   "id": "be565cbd-e959-4d66-be39-f6d2373f67c8",
   "metadata": {},
   "outputs": [],
   "source": []
  }
 ],
 "metadata": {
  "kernelspec": {
   "display_name": "Python 3 (ipykernel)",
   "language": "python",
   "name": "python3"
  },
  "language_info": {
   "codemirror_mode": {
    "name": "ipython",
    "version": 3
   },
   "file_extension": ".py",
   "mimetype": "text/x-python",
   "name": "python",
   "nbconvert_exporter": "python",
   "pygments_lexer": "ipython3",
   "version": "3.11.9"
  }
 },
 "nbformat": 4,
 "nbformat_minor": 5
}
